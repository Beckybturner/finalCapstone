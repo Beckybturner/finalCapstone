{
 "cells": [
  {
   "cell_type": "markdown",
   "metadata": {},
   "source": [
    "Develop a python program that performs sentiment analysis on amazon reviews containing the following steps:\n",
    "1. Implement a sentiment analysis model using spaCy\n",
    "2. Preprocess the text data\n",
    "3 . Create a function for sentiment analysis\n",
    "4. Test the model on sample reviews\n",
    "5. Write a brief report in a PDF file\n"
   ]
  },
  {
   "cell_type": "code",
   "execution_count": 53,
   "metadata": {},
   "outputs": [],
   "source": [
    "# import relevant packages\n",
    "import spacy\n",
    "import pandas as pd\n",
    "from spacytextblob.spacytextblob import SpacyTextBlob"
   ]
  },
  {
   "cell_type": "code",
   "execution_count": 58,
   "metadata": {},
   "outputs": [
    {
     "data": {
      "text/plain": [
       "<spacytextblob.spacytextblob.SpacyTextBlob at 0x20f8fee1490>"
      ]
     },
     "execution_count": 58,
     "metadata": {},
     "output_type": "execute_result"
    }
   ],
   "source": [
    "# load the pipeline from spaCy (small)\n",
    "nlp = spacy.load('en_core_web_sm')\n",
    "# add spacytextblob to be used for sentiment and polarity\n",
    "nlp.add_pipe('spacytextblob')"
   ]
  },
  {
   "cell_type": "code",
   "execution_count": 59,
   "metadata": {},
   "outputs": [],
   "source": [
    "# open csv file and set as 'df' variable\n",
    "df = pd.read_csv('amazon_product_reviews.csv')\n",
    "# select the 'reviews.text' column and drop any rows containing NaNs\n",
    "reviews_data = df['reviews.text']\n",
    "reviews_data = reviews_data.dropna()\n"
   ]
  },
  {
   "cell_type": "markdown",
   "metadata": {},
   "source": [
    "Create a function that takes in the review text and outputs a sentiment prediction."
   ]
  },
  {
   "cell_type": "code",
   "execution_count": 60,
   "metadata": {},
   "outputs": [
    {
     "name": "stdout",
     "output_type": "stream",
     "text": [
      "Review text:\n",
      "      This my second order and they seem to work as good as name brand and ship to my door.\n",
      "      \n",
      "Sentiment prediction: 0.35\n"
     ]
    }
   ],
   "source": [
    "# convert sentences to lower case, remove special characters, remove stop words, perform lemmatisation\n",
    "# handle negations (e.g. transform 'not good' to 'not_good'\n",
    "def sentiment_analysis(text):\n",
    "    # tokenise the text to produce a doc object\n",
    "    doc = nlp(text)\n",
    "    # create two empty lists to contain the edited tokens (words)\n",
    "    filtered_tokens = []\n",
    "    filtered_tokens_two = []\n",
    "    # loop through the tokens in the text\n",
    "    for token in doc:\n",
    "        # if a token isn't a stop-word, lemmatise it and add it to the filtered_tokens list\n",
    "        if not token.is_stop: \n",
    "            filtered_tokens.append(token.lemma_)\n",
    "    # loop through the tokens in the filtered_tokens list (as the following tasks can't be completed on doc object)\n",
    "    for token in filtered_tokens:\n",
    "        # convert token to string and lower case\n",
    "        token = str(token).lower()\n",
    "        # if the token only contains letters or numbers, append to the filtered_tokens_two list\n",
    "        if token.isalnum():\n",
    "            filtered_tokens_two.append(token)\n",
    "    # join the list together to become a string\n",
    "    new_text = ' '.join(filtered_tokens_two)\n",
    "    # convert the string to doc object so polarity and sentiment can be applied\n",
    "    new_text_doc = nlp(new_text)\n",
    "    polarity = new_text_doc._.blob.polarity\n",
    "    sentiment = new_text_doc._.blob.sentiment\n",
    "    # work out the average sentiment from the two values (excluding subjectivity as not relevant)\n",
    "    average_polarity = (polarity + sentiment[0])/2 \n",
    "    # print sentiment prediction\n",
    "    print(f\"Sentiment prediction: {average_polarity}\")\n",
    "\n",
    "# ask user for index of review data to input into sentiment function\n",
    "review_index = int(input(\"Enter index for the review data you would like a sentiment prediction: \"))\n",
    "text = reviews_data[review_index]\n",
    "# print the review text and sentiment prediction\n",
    "print(f\"\"\"Review text:\n",
    "      {text}\n",
    "      \"\"\")\n",
    "sentiment_analysis(text)"
   ]
  },
  {
   "cell_type": "markdown",
   "metadata": {},
   "source": [
    "Create a function which compares two reviews and outputs a similarity measure"
   ]
  },
  {
   "cell_type": "code",
   "execution_count": 62,
   "metadata": {},
   "outputs": [
    {
     "name": "stdout",
     "output_type": "stream",
     "text": [
      "Similarity: 0.3892909317696686\n"
     ]
    },
    {
     "name": "stderr",
     "output_type": "stream",
     "text": [
      "C:\\Users\\Becky\\AppData\\Local\\Temp\\ipykernel_3908\\1467734456.py:6: UserWarning: [W007] The model you're using has no word vectors loaded, so the result of the Doc.similarity method will be based on the tagger, parser and NER, which may not give useful similarity judgements. This may happen if you're using one of the small models, e.g. `en_core_web_sm`, which don't ship with word vectors and only use context-sensitive tensors. You can always add your own word vectors, or use one of the larger models instead if available.\n",
      "  print(f\"Similarity: {doc1.similarity(doc2)}\")\n"
     ]
    }
   ],
   "source": [
    "def compare_two_reviews(review_one, review_two):\n",
    "    # convert the two reviews into NLP doc objects\n",
    "    doc1 = nlp(review_one)\n",
    "    doc2 = nlp(review_two)\n",
    "    # calculate the similarity and print\n",
    "    print(f\"Similarity: {doc1.similarity(doc2)}\")\n",
    "\n",
    "# ask user to input the index of the reviews they would like to compare\n",
    "review_one_index = int(input(\"Enter index for review one to be compared: \"))\n",
    "review_two_index = int(input(\"Enter index for the second review: \"))\n",
    "# call the comparison function\n",
    "compare_two_reviews(reviews_data[review_one_index], reviews_data[review_two_index])"
   ]
  }
 ],
 "metadata": {
  "kernelspec": {
   "display_name": "myenv",
   "language": "python",
   "name": "python3"
  },
  "language_info": {
   "codemirror_mode": {
    "name": "ipython",
    "version": 3
   },
   "file_extension": ".py",
   "mimetype": "text/x-python",
   "name": "python",
   "nbconvert_exporter": "python",
   "pygments_lexer": "ipython3",
   "version": "3.11.8"
  }
 },
 "nbformat": 4,
 "nbformat_minor": 2
}
